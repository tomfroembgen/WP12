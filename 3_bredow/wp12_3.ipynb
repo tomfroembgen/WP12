{
 "cells": [
  {
   "cell_type": "markdown",
   "metadata": {},
   "source": [
    "# WP12\n",
    "\n",
    "## Theoretical Methods for Condensed Matter\n",
    "\n",
    "### Tom Frömbgen\n",
    "\n",
    "# Part II\n",
    "\n",
    "# Theory of non-covalent interactions\n",
    "---\n",
    "## General Setup"
   ]
  },
  {
   "cell_type": "code",
   "execution_count": 17,
   "metadata": {},
   "outputs": [
    {
     "name": "stderr",
     "output_type": "stream",
     "text": [
      "/usr/lib64/python3.6/site-packages/matplotlib/__init__.py:1405: UserWarning: \n",
      "This call to matplotlib.use() has no effect because the backend has already\n",
      "been chosen; matplotlib.use() must be called *before* pylab, matplotlib.pyplot,\n",
      "or matplotlib.backends is imported for the first time.\n",
      "\n",
      "  warnings.warn(_use_error_msg)\n"
     ]
    }
   ],
   "source": [
    "import numpy as np\n",
    "import matplotlib as mpl\n",
    "import matplotlib.pyplot as plt\n",
    "import pandas as pd\n",
    "import lmfit as lf\n",
    "from lmfit.models import ExpressionModel\n",
    "from inspect import signature\n",
    "#from scipy.optimize import curve_fit\n",
    "#from scipy.optimize import differential_evolution as DE\n",
    "import os\n",
    "import sys\n",
    "import linecache\n",
    "from pathlib import Path\n",
    "from IPython.display import display_html, display\n",
    "from itertools import chain, cycle\n",
    "\n",
    "\n",
    "save_as_pgf = 1\n",
    "save_as_png = 0\n",
    "\n",
    "if save_as_pgf == 1:\n",
    "    mpl.use(\"pgf\")\n",
    "    mpl.rcParams['text.usetex'] = True\n",
    "    mpl.rcParams['pgf.texsystem'] = 'pdflatex'\n",
    "    mpl.rcParams['pgf.rcfonts'] = False\n",
    "    mpl.rcParams['pgf.preamble'] = r'\\usepackage{amssymb} \\usepackage{amsmath}'\n",
    "    mpl.rcParams['font.family'] = 'serif'\n",
    "    mpl.rcParams['font.serif'] = 'Computer Modern'\n",
    "    mpl.rc('axes', titlesize=10)     # fontsize of the axes title\n",
    "    mpl.rc('axes', labelsize=10)     # fontsize of the x and y labels\n",
    "    mpl.rc('xtick', labelsize=8)    # fontsize of the tick labels\n",
    "    mpl.rc('ytick', labelsize=8)    # fontsize of the tick labels\n",
    "    mpl.rc('legend', fontsize=8)\n",
    "    mpl.rc('figure', titlesize=10)   # fontsize of the figure title\n",
    "\n",
    "    lw = 1 # width of grid lines\n",
    "\n",
    "    # width of tex document in inches\n",
    "    fig_width = 6.69423\n",
    "    fig_height = fig_width * 0.6\n",
    "    #import matplotlib.pyplot as plt\n",
    "    \n",
    "else:\n",
    "    #import matplotlib.pyplot as plt\n",
    "    plt.rc('font', size=16)          # controls default text sizes\n",
    "    plt.rc('axes', titlesize=16)     # fontsize of the axes title\n",
    "    plt.rc('axes', labelsize=18)     # fontsize of the x and y labels\n",
    "    plt.rc('xtick', labelsize=16)    # fontsize of the tick labels\n",
    "    plt.rc('ytick', labelsize=16)    # fontsize of the tick labels\n",
    "    plt.rc('legend', fontsize=18)    # legend fontsize\n",
    "    plt.rc('figure', titlesize=18)   # fontsize of the figure title\n",
    "\n",
    "    lw = 1\n",
    "\n",
    "    # height and width for nice print in jupyter notebook\n",
    "    fig_width = 20\n",
    "    fig_height = 10\n",
    "    \n",
    "\n",
    "\n",
    "# number of decimals printed in numpy stuff\n",
    "np.set_printoptions(formatter={'float': '{: 0.3f}'.format})\n",
    "\n",
    "# uni bonn colors\n",
    "blue = \"#07529a\"\n",
    "yellow = \"#ffb90c\"\n",
    "\n",
    "# number of decimals\n",
    "ytick_format = mpl.ticker.FormatStrFormatter('%.2f')"
   ]
  },
  {
   "cell_type": "markdown",
   "metadata": {},
   "source": [
    "## Helpers"
   ]
  },
  {
   "cell_type": "code",
   "execution_count": 18,
   "metadata": {},
   "outputs": [],
   "source": [
    "def save_plot_as_pgf(fig, path):\n",
    "  if save_as_pgf == 1:\n",
    "    fig.savefig(path, format=\"pgf\")\n",
    "\n",
    "\n",
    "def save_plot_as_png(fig, path):\n",
    "  if save_as_png == 1:\n",
    "    fig.savefig(path, format=\"png\")\n",
    "\n",
    "\n",
    "def checkForFaultyData(df):\n",
    "  if df.isnull().sum().sum() != 0:\n",
    "    df.dropna(how='any', inplace=True)\n",
    "    print(df.isnull().sum())\n",
    "    print(\"WARNING! Dropped some null values.\")\n",
    "  return df\n",
    "\n",
    "def display_side_by_side(*args,titles=cycle([''])):\n",
    "    html_str=''\n",
    "    for df,title in zip(args, chain(titles,cycle(['</br>'])) ):\n",
    "        html_str+='<th style=\"text-align:center\"><td style=\"vertical-align:top\">'\n",
    "        html_str+=f'<h2>{title}</h2>'\n",
    "        html_str+=df.to_html().replace('table','table style=\"display:inline\"')\n",
    "        html_str+='</td></th>'\n",
    "    display_html(html_str,raw=True)\n",
    "    \n",
    "eh2kcal = 627.503 \n",
    "ev2kcal = 23.0609\n",
    "eh2kj = 2625.5 \n",
    "ev2kj = 96.4869"
   ]
  },
  {
   "cell_type": "markdown",
   "metadata": {},
   "source": [
    "# Main part"
   ]
  },
  {
   "cell_type": "markdown",
   "metadata": {},
   "source": [
    "# 5. Bulk Properties of NaCl\n",
    "## 5.2 Structural relaxations on NaCl"
   ]
  },
  {
   "cell_type": "code",
   "execution_count": 42,
   "metadata": {},
   "outputs": [
    {
     "name": "stdout",
     "output_type": "stream",
     "text": [
      "         Functional  CPU time         a\n",
      "0  ex1/opts/lda_vwn   182.140  5.410157\n",
      "1     ex1/opts/m06l   187.466  5.491994\n",
      "2     ex1/opts/pbe0   971.877  5.573240\n",
      "3    ex1/opts/pwgga   195.352  5.614326\n"
     ]
    }
   ],
   "source": [
    "def getFileList():\n",
    "    filelist = []\n",
    "    for file in sorted(Path(\"./ex1/opts\").rglob(\"*.out\")):\n",
    "        filelist.append(file)\n",
    "\n",
    "    if len(filelist) == 0:\n",
    "        sys.exit(\"No '*data' files found.\")\n",
    "\n",
    "    return filelist\n",
    "\n",
    "\n",
    "data = []\n",
    "flist = getFileList()\n",
    "linestoread=[2]\n",
    "\n",
    "for i, file in enumerate(flist):\n",
    "    with open(file) as f:\n",
    "        for j, line in enumerate(f):\n",
    "          if \"    TOTAL CPU TIME =\" in line:\n",
    "            time = float(line.split()[4])\n",
    "          if \"         A              B              C           ALPHA      BETA       GAMMA\" in line:\n",
    "            a = float(next(f).split()[1])\n",
    "            \n",
    "\n",
    "    data.append([file.parent, time, a])\n",
    "  \n",
    "cols = [\"Functional\", \"CPU time\", \"a\"]\n",
    "df = pd.DataFrame(columns=cols, data=data)\n",
    "print(df)\n",
    "\n",
    "# save to csv\n",
    "save_loc = os.path.join(os.path.realpath(\".\"), \"ex1/nacl-relax.csv\")\n",
    "df.to_csv(save_loc, index=False)"
   ]
  },
  {
   "cell_type": "markdown",
   "metadata": {},
   "source": [
    "# 6. Calculating Surfaces of TiO2"
   ]
  },
  {
   "cell_type": "markdown",
   "metadata": {},
   "source": []
  }
 ],
 "metadata": {
  "kernelspec": {
   "display_name": "Python 3",
   "language": "python",
   "name": "python3"
  },
  "language_info": {
   "codemirror_mode": {
    "name": "ipython",
    "version": 3
   },
   "file_extension": ".py",
   "mimetype": "text/x-python",
   "name": "python",
   "nbconvert_exporter": "python",
   "pygments_lexer": "ipython3",
   "version": "3.6.9"
  }
 },
 "nbformat": 4,
 "nbformat_minor": 2
}
